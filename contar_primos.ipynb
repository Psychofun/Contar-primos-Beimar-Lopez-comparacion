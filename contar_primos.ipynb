{
 "cells": [
  {
   "cell_type": "code",
   "execution_count": 32,
   "metadata": {},
   "outputs": [],
   "source": [
    "def eit(x):\n",
    "    \"\"\"\n",
    "    x: float | int \n",
    "    \"\"\"\n",
    "    return int( x>0 and x%1 ==0 )\n",
    "    "
   ]
  },
  {
   "cell_type": "code",
   "execution_count": 33,
   "metadata": {},
   "outputs": [
    {
     "data": {
      "text/plain": [
       "0"
      ]
     },
     "execution_count": 33,
     "metadata": {},
     "output_type": "execute_result"
    }
   ],
   "source": [
    "eit(6.1)"
   ]
  },
  {
   "cell_type": "code",
   "execution_count": 34,
   "metadata": {},
   "outputs": [
    {
     "data": {
      "text/plain": [
       "1"
      ]
     },
     "execution_count": 34,
     "metadata": {},
     "output_type": "execute_result"
    }
   ],
   "source": [
    "eit(2)"
   ]
  },
  {
   "cell_type": "code",
   "execution_count": 35,
   "metadata": {},
   "outputs": [
    {
     "data": {
      "text/plain": [
       "0"
      ]
     },
     "execution_count": 35,
     "metadata": {},
     "output_type": "execute_result"
    }
   ],
   "source": [
    "eit(3.32)"
   ]
  },
  {
   "cell_type": "code",
   "execution_count": 36,
   "metadata": {},
   "outputs": [
    {
     "data": {
      "text/plain": [
       "0"
      ]
     },
     "execution_count": 36,
     "metadata": {},
     "output_type": "execute_result"
    }
   ],
   "source": [
    "eit(-213)"
   ]
  },
  {
   "cell_type": "code",
   "execution_count": 37,
   "metadata": {},
   "outputs": [
    {
     "data": {
      "text/plain": [
       "0"
      ]
     },
     "execution_count": 37,
     "metadata": {},
     "output_type": "execute_result"
    }
   ],
   "source": [
    "eit(3e-10)"
   ]
  },
  {
   "cell_type": "code",
   "execution_count": 45,
   "metadata": {},
   "outputs": [],
   "source": [
    "import math \n",
    "import time \n",
    "from beimar_codigo import pi_beimar2 \n",
    "def medir_tiempo(funcion):\n",
    "    \n",
    "    def f_medida(*args, **kwargs):\n",
    "        t0 = time.time()\n",
    "        value = funcion(*args, **kwargs)\n",
    "        tf = time.time()\n",
    "        print(\"Tiempo de ejecución: \", round(tf-t0, 5) )\n",
    "        \n",
    "        return value\n",
    "    \n",
    "    return f_medida\n",
    "                \n",
    "@medir_tiempo\n",
    "def pi_beimar(x):\n",
    "    aa = (2*x + (-1)**x -1)/6\n",
    "    \n",
    "    a = round(aa,0)\n",
    "    \n",
    "    cc = ((-1 + (math.sqrt(-2 + 3 * aa)))/3)\n",
    "    c = -int(cc*(-1))\n",
    "    m = c\n",
    "    n= a-1\n",
    "    \n",
    "    suma = 0 \n",
    "    k=0\n",
    "    t=0\n",
    "    \n",
    "    for j in range(8,int( n+1)):\n",
    "        for i in range(1, int(m+1)):\n",
    "            exp = (4*j  - ((-1)**j) + ((2*i + 1)*(-1)**(i+j)) + ((2*i -1) * (-1)**i) - (12*i**2) + 5)/(12*i + 6-(2*(-1)**i))\n",
    "            r = eit(\n",
    "                (4*j  - ((-1)**j) + ((2*i + 1)*(-1)**(i+j)) + ((2*i -1) * (-1)**i) - (12*i**2) + 5)/(12*i + 6-(2*(-1)**i))\n",
    "            )\n",
    "            k = r+k\n",
    "            \n",
    "        suma = eit(k) + suma\n",
    "        k = 0 \n",
    "    \n",
    "    pp = (2*x + ((-1)**x) -6 * suma + 5)/6\n",
    "    p = int(pp)\n",
    "    \n",
    "    return p\n",
    "\n",
    "#https://stackoverflow.com/questions/3939660/sieve-of-eratosthenes-finding-primes-python\n",
    "def primes_sieve(limit):\n",
    "    a = [True] * limit                          # Initialize the primality list\n",
    "    a[0] = a[1] = False\n",
    "\n",
    "    for (i, isprime) in enumerate(a):\n",
    "        if isprime:\n",
    "            yield i\n",
    "            for n in range(i*i, limit, i):     # Mark factors non-prime\n",
    "                a[n] = False\n",
    "@medir_tiempo\n",
    "def pi_eratostenes(x):    \n",
    "    x = int(x)\n",
    "    return len(list( primes_sieve(x)))\n",
    "\n",
    "\n",
    "def print_pi(x):\n",
    "    valor_e = pi_eratostenes(x)\n",
    "    print(f\"Cantidad de primos menores que {x}: {valor_e}  (Eratóstenes)\")\n",
    "    \n",
    "    \n",
    "    valor_sym = pi_sympy(x)\n",
    "    print(f\"Cantidad de primos menores que {x}: {valor_sym}  (Sympy)\")\n",
    "    \n",
    "    \n",
    "    valor_b = pi_beimar(x)\n",
    "    print(f\"Cantidad de primos menores que {x}: {valor_b}  (Beimar)\")\n",
    "    \n",
    "    valor_b2 = pi_beimar2_t(x)\n",
    "    print(f\"Cantidad de primos menores que {x}: {valor_b2}  (Beimar mejorado)\")\n",
    "    \n",
    "    print('\\n\\n')\n",
    "\n",
    "def print_pi2(x):\n",
    "    valor_e = pi_eratostenes(x)\n",
    "    print(f\"Cantidad de primos menores que {x}: {valor_e}  (Eratóstenes)\")\n",
    "    \n",
    "    \n",
    "    valor_sym = pi_sympy(x)\n",
    "    print(f\"Cantidad de primos menores que {x}: {valor_sym}  (Sympy)\")\n",
    "    \n",
    "    \n",
    "    valor_b2 = pi_beimar2_t(x)\n",
    "    print(f\"Cantidad de primos menores que {x}: {valor_b2}  (Beimar mejorado)\")\n",
    "    \n",
    "    print('\\n\\n')\n",
    "\n",
    "\n",
    "        \n",
    "@medir_tiempo    \n",
    "def pi_beimar2_t(x):\n",
    "    return pi_beimar2(x)\n",
    "    \n",
    "\n",
    "    \n",
    "from  sympy import primepi\n",
    "\n",
    "@medir_tiempo\n",
    "def pi_sympy(x):\n",
    "    return primepi(x)\n",
    "\n",
    "\n",
    "   "
   ]
  },
  {
   "cell_type": "code",
   "execution_count": 47,
   "metadata": {},
   "outputs": [],
   "source": [
    "valores = [10,100,1000, 5000, 10000, 1e5, 1e6,1e7]"
   ]
  },
  {
   "cell_type": "code",
   "execution_count": 43,
   "metadata": {},
   "outputs": [
    {
     "name": "stdout",
     "output_type": "stream",
     "text": [
      "Tiempo de ejecución:  0.0\n",
      "Cantidad de primos menores que 10: 4  (Erastóstenes)\n",
      "Tiempo de ejecución:  0.0\n",
      "Cantidad de primos menores que 10: 4  (Sympy)\n",
      "Tiempo de ejecución:  0.0\n",
      "Cantidad de primos menores que 10: 4  (Beimar)\n",
      "Tiempo de ejecución:  0.0\n",
      "Cantidad de primos menores que 10: 4  (Beimar mejorado)\n",
      "\n",
      "\n",
      "\n",
      "Tiempo de ejecución:  0.0\n",
      "Cantidad de primos menores que 100: 25  (Erastóstenes)\n",
      "Tiempo de ejecución:  0.0\n",
      "Cantidad de primos menores que 100: 25  (Sympy)\n",
      "Tiempo de ejecución:  0.0\n",
      "Cantidad de primos menores que 100: 25  (Beimar)\n",
      "Tiempo de ejecución:  0.0\n",
      "Cantidad de primos menores que 100: 25  (Beimar mejorado)\n",
      "\n",
      "\n",
      "\n",
      "Tiempo de ejecución:  0.0\n",
      "Cantidad de primos menores que 1000: 168  (Erastóstenes)\n",
      "Tiempo de ejecución:  0.0\n",
      "Cantidad de primos menores que 1000: 168  (Sympy)\n",
      "Tiempo de ejecución:  0.01101\n",
      "Cantidad de primos menores que 1000: 168  (Beimar)\n",
      "Tiempo de ejecución:  0.0\n",
      "Cantidad de primos menores que 1000: 168  (Beimar mejorado)\n",
      "\n",
      "\n",
      "\n",
      "Tiempo de ejecución:  0.001\n",
      "Cantidad de primos menores que 5000: 669  (Erastóstenes)\n",
      "Tiempo de ejecución:  0.0\n",
      "Cantidad de primos menores que 5000: 669  (Sympy)\n",
      "Tiempo de ejecución:  0.13599\n",
      "Cantidad de primos menores que 5000: 668  (Beimar)\n",
      "Tiempo de ejecución:  0.00298\n",
      "Cantidad de primos menores que 5000: 668  (Beimar mejorado)\n",
      "\n",
      "\n",
      "\n",
      "Tiempo de ejecución:  0.001\n",
      "Cantidad de primos menores que 10000: 1229  (Erastóstenes)\n",
      "Tiempo de ejecución:  0.0\n",
      "Cantidad de primos menores que 10000: 1229  (Sympy)\n",
      "Tiempo de ejecución:  0.37429\n",
      "Cantidad de primos menores que 10000: 1229  (Beimar)\n",
      "Tiempo de ejecución:  0.00498\n",
      "Cantidad de primos menores que 10000: 1229  (Beimar mejorado)\n",
      "\n",
      "\n",
      "\n",
      "Tiempo de ejecución:  0.01101\n",
      "Cantidad de primos menores que 100000.0: 9592  (Erastóstenes)\n",
      "Tiempo de ejecución:  0.0\n",
      "Cantidad de primos menores que 100000.0: 9592  (Sympy)\n",
      "Tiempo de ejecución:  13.27808\n",
      "Cantidad de primos menores que 100000.0: 9592  (Beimar)\n",
      "Tiempo de ejecución:  0.073\n",
      "Cantidad de primos menores que 100000.0: 9592  (Beimar mejorado)\n",
      "\n",
      "\n",
      "\n",
      "Tiempo de ejecución:  0.13403\n",
      "Cantidad de primos menores que 1000000.0: 78498  (Erastóstenes)\n",
      "Tiempo de ejecución:  0.0\n",
      "Cantidad de primos menores que 1000000.0: 78498  (Sympy)\n",
      "Tiempo de ejecución:  446.44941\n",
      "Cantidad de primos menores que 1000000.0: 78498  (Beimar)\n",
      "Tiempo de ejecución:  1.001\n",
      "Cantidad de primos menores que 1000000.0: 78498  (Beimar mejorado)\n",
      "\n",
      "\n",
      "\n"
     ]
    }
   ],
   "source": [
    "for x in valores:\n",
    "    print_pi(x)"
   ]
  },
  {
   "cell_type": "code",
   "execution_count": 48,
   "metadata": {},
   "outputs": [
    {
     "name": "stdout",
     "output_type": "stream",
     "text": [
      "Tiempo de ejecución:  0.0\n",
      "Cantidad de primos menores que 10: 4  (Eratóstenes)\n",
      "Tiempo de ejecución:  0.0\n",
      "Cantidad de primos menores que 10: 4  (Sympy)\n",
      "Tiempo de ejecución:  0.0\n",
      "Cantidad de primos menores que 10: 4  (Beimar mejorado)\n",
      "\n",
      "\n",
      "\n",
      "Tiempo de ejecución:  0.0\n",
      "Cantidad de primos menores que 100: 25  (Eratóstenes)\n",
      "Tiempo de ejecución:  0.0\n",
      "Cantidad de primos menores que 100: 25  (Sympy)\n",
      "Tiempo de ejecución:  0.0\n",
      "Cantidad de primos menores que 100: 25  (Beimar mejorado)\n",
      "\n",
      "\n",
      "\n",
      "Tiempo de ejecución:  0.0\n",
      "Cantidad de primos menores que 1000: 168  (Eratóstenes)\n",
      "Tiempo de ejecución:  0.0\n",
      "Cantidad de primos menores que 1000: 168  (Sympy)\n",
      "Tiempo de ejecución:  0.0\n",
      "Cantidad de primos menores que 1000: 168  (Beimar mejorado)\n",
      "\n",
      "\n",
      "\n",
      "Tiempo de ejecución:  0.0\n",
      "Cantidad de primos menores que 5000: 669  (Eratóstenes)\n",
      "Tiempo de ejecución:  0.0\n",
      "Cantidad de primos menores que 5000: 669  (Sympy)\n",
      "Tiempo de ejecución:  0.00303\n",
      "Cantidad de primos menores que 5000: 668  (Beimar mejorado)\n",
      "\n",
      "\n",
      "\n",
      "Tiempo de ejecución:  0.001\n",
      "Cantidad de primos menores que 10000: 1229  (Eratóstenes)\n",
      "Tiempo de ejecución:  0.0\n",
      "Cantidad de primos menores que 10000: 1229  (Sympy)\n",
      "Tiempo de ejecución:  0.005\n",
      "Cantidad de primos menores que 10000: 1229  (Beimar mejorado)\n",
      "\n",
      "\n",
      "\n",
      "Tiempo de ejecución:  0.01197\n",
      "Cantidad de primos menores que 100000.0: 9592  (Eratóstenes)\n",
      "Tiempo de ejecución:  0.0\n",
      "Cantidad de primos menores que 100000.0: 9592  (Sympy)\n",
      "Tiempo de ejecución:  0.07203\n",
      "Cantidad de primos menores que 100000.0: 9592  (Beimar mejorado)\n",
      "\n",
      "\n",
      "\n",
      "Tiempo de ejecución:  0.13097\n",
      "Cantidad de primos menores que 1000000.0: 78498  (Eratóstenes)\n",
      "Tiempo de ejecución:  0.0\n",
      "Cantidad de primos menores que 1000000.0: 78498  (Sympy)\n",
      "Tiempo de ejecución:  0.97901\n",
      "Cantidad de primos menores que 1000000.0: 78498  (Beimar mejorado)\n",
      "\n",
      "\n",
      "\n",
      "Tiempo de ejecución:  1.63099\n",
      "Cantidad de primos menores que 10000000.0: 664579  (Eratóstenes)\n",
      "Tiempo de ejecución:  0.019\n",
      "Cantidad de primos menores que 10000000.0: 664579  (Sympy)\n",
      "Tiempo de ejecución:  13.15818\n",
      "Cantidad de primos menores que 10000000.0: 664579  (Beimar mejorado)\n",
      "\n",
      "\n",
      "\n"
     ]
    }
   ],
   "source": [
    "for x in valores:\n",
    "    print_pi2(x)"
   ]
  },
  {
   "cell_type": "code",
   "execution_count": null,
   "metadata": {},
   "outputs": [],
   "source": []
  }
 ],
 "metadata": {
  "kernelspec": {
   "display_name": "py3",
   "language": "python",
   "name": "py3"
  },
  "language_info": {
   "codemirror_mode": {
    "name": "ipython",
    "version": 3
   },
   "file_extension": ".py",
   "mimetype": "text/x-python",
   "name": "python",
   "nbconvert_exporter": "python",
   "pygments_lexer": "ipython3",
   "version": "3.7.6"
  }
 },
 "nbformat": 4,
 "nbformat_minor": 4
}
